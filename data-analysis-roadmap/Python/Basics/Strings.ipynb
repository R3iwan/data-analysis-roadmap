{
 "cells": [
  {
   "cell_type": "code",
   "execution_count": null,
   "id": "d5ef0af7-a7f6-4648-b6f8-cc072fc11c9e",
   "metadata": {},
   "outputs": [
    {
     "name": "stdout",
     "output_type": "stream",
     "text": [
      "Py\n",
      "thon\n",
      "Pytho\n"
     ]
    }
   ],
   "source": [
    "# Theory\n",
    "'''\n",
    "Работа со строками (str)\n",
    "\n",
    "Срезы (Slicing): Позволяют получать часть строки. Синтаксис: string[start:stop:step].\n",
    "\n",
    "'Python'[0:2] → 'Py' (символы с 0 по 2, не включая 2)\n",
    "\n",
    "'Python'[2:] → 'thon' (с 2-го символа до конца)\n",
    "\n",
    "'Python'[:-1] → 'Pytho' (все, кроме последнего символа)\n",
    "'''\n",
    "python_word = \"Python\"\n",
    "print(python_word[0:2])\n",
    "print(python_word[2:])\n",
    "print(python_word[:-1])\n",
    "\n",
    "'''\n",
    "Основные методы строк:\n",
    "\n",
    ".lower() / .upper(): Преобразование строки к нижнему или верхнему регистру.\n",
    "\n",
    ".strip(): Удаление пробелов в начале и в конце строки.\n",
    "\n",
    ".split(delimiter): Разбиение строки на список по указанному разделителю. Если разделитель не указан, разбивает по пробелам.\n",
    "\n",
    "delimiter.join(list): Сборка строки из элементов списка с использованием разделителя.\n",
    "\n",
    ".find(substring): Поиск подстроки, возвращает индекс первого вхождения или -1, если не найдено.\n",
    "\n",
    ".replace(old, new): Замена всех вхождений подстроки old на new.\n",
    "'''\n",
    "\n",
    "# Uppers the word\n",
    "python_word = python_word.upper()\n",
    "print(python_word)\n",
    "\n",
    "# Lowers the word\n",
    "python_word = python_word.lower()\n",
    "print(python_word)\n",
    "\n",
    "remove_strip = \" hello! \"\n",
    "remove_strip = remove_strip.strip()\n",
    "print(remove_strip)\n",
    "\n",
    "split_word = \"My,name,is,Rakhat!\"\n",
    "split_word = split_word.split\n",
    "\n"
   ]
  },
  {
   "cell_type": "code",
   "execution_count": null,
   "id": "32e05ed4-4ecf-44f7-a676-ba62fec0e6ec",
   "metadata": {},
   "outputs": [],
   "source": []
  }
 ],
 "metadata": {
  "kernelspec": {
   "display_name": "Python 3 (ipykernel)",
   "language": "python",
   "name": "python3"
  },
  "language_info": {
   "codemirror_mode": {
    "name": "ipython",
    "version": 3
   },
   "file_extension": ".py",
   "mimetype": "text/x-python",
   "name": "python",
   "nbconvert_exporter": "python",
   "pygments_lexer": "ipython3",
   "version": "3.13.3"
  }
 },
 "nbformat": 4,
 "nbformat_minor": 5
}
