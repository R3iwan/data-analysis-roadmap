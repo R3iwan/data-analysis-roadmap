{
 "cells": [
  {
   "cell_type": "code",
   "execution_count": 2,
   "id": "20f00eef-0823-4e03-9c98-7b0a67448d82",
   "metadata": {},
   "outputs": [
    {
     "name": "stdin",
     "output_type": "stream",
     "text": [
      "Please write your age 22\n"
     ]
    },
    {
     "name": "stdout",
     "output_type": "stream",
     "text": [
      "Your age is 22!\n"
     ]
    }
   ],
   "source": [
    "'''\n",
    "ValueError\n",
    "This error is raised when a function receives an argument that has the right type, but an inappropriate value. A classic example is trying to convert a non-numeric string to an integer.\n",
    "\n",
    "Scenario: You ask a user for their age, but they type text.\n",
    "'''\n",
    "try:\n",
    "    age_input = input(\"Please write your age\")\n",
    "    age_input = int(age_input)\n",
    "    print(f\"Your age is {age_input}!\")\n",
    "except ValueError:\n",
    "    print(\"Invalid input. Please write a number for your age!\")"
   ]
  },
  {
   "cell_type": "code",
   "execution_count": 3,
   "id": "aa38fc40-a126-4216-a8e3-488fb4d07996",
   "metadata": {},
   "outputs": [
    {
     "name": "stdout",
     "output_type": "stream",
     "text": [
      "TypeError is unsupported operand type(s) for +: 'int' and 'str'\n",
      "You can't add numbers and text directly. Check your data types.\n"
     ]
    }
   ],
   "source": [
    "'''\n",
    "TypeError\n",
    "This occurs when an operation or function is applied to an object of the wrong type. For example, trying to add a string to an integer.\n",
    "\n",
    "Scenario: You try to add a number to a string.\n",
    "'''\n",
    "try:\n",
    "    total = 5 + 'apples'\n",
    "except TypeError as e:\n",
    "    print(f\"TypeError is {e}\")\n",
    "    print(\"You can't add numbers and text directly. Check your data types.\")"
   ]
  },
  {
   "cell_type": "code",
   "execution_count": 4,
   "id": "d6e130b5-e880-4aa5-995f-ea4be88e942b",
   "metadata": {},
   "outputs": [
    {
     "name": "stdout",
     "output_type": "stream",
     "text": [
      "IndexError is list index out of range\n",
      "Index out of range, please write appropirate index range!\n",
      "Error: That key does not exist in the dictionary.\n"
     ]
    }
   ],
   "source": [
    "'''\n",
    "IndexError and KeyError\n",
    "IndexError: Raised when you try to access a list or tuple index that is out of range.\n",
    "\n",
    "KeyError: The dictionary equivalent of IndexError; raised when you try to access a key that doesn't exist.\n",
    "\n",
    "Scenario: Accessing a non-existent element in a list and a key in a dictionary.\n",
    "'''\n",
    "my_list = [1,2,3]\n",
    "my_dict = {\"name\":\"Alice\", \"age\": \"22\"}\n",
    "\n",
    "try:\n",
    "    print(my_list[5])\n",
    "except IndexError as e:\n",
    "    print(f\"IndexError is {e}\")\n",
    "    print(\"Index out of range, please write appropirate index range!\")\n",
    "\n",
    "try:\n",
    "    print(my_dict[\"job\"])\n",
    "except KeyError:\n",
    "    print(\"Error: That key does not exist in the dictionary.\")"
   ]
  },
  {
   "cell_type": "code",
   "execution_count": 5,
   "id": "740f5d15-da5c-46e0-8ceb-ec5398b3d15b",
   "metadata": {},
   "outputs": [
    {
     "data": {
      "text/plain": [
       "\"\\nA Special Case: SyntaxError\\nA SyntaxError is different from the exceptions above. It is raised when the Python parser finds code that isn't valid Python syntax (e.g., a missing colon, mismatched parentheses).\\n\\nYou cannot typically catch a SyntaxError with a try...except block because the error prevents your script from being compiled and run in the first place. Your code must have valid syntax before it can be executed.\\n\""
      ]
     },
     "execution_count": 5,
     "metadata": {},
     "output_type": "execute_result"
    }
   ],
   "source": [
    "'''\n",
    "A Special Case: SyntaxError\n",
    "A SyntaxError is different from the exceptions above. It is raised when the Python parser finds code that isn't valid Python syntax (e.g., a missing colon, mismatched parentheses).\n",
    "\n",
    "You cannot typically catch a SyntaxError with a try...except block because the error prevents your script from being compiled and run in the first place. Your code must have valid syntax before it can be executed.\n",
    "'''"
   ]
  },
  {
   "cell_type": "code",
   "execution_count": 8,
   "id": "9cb1f6e0-c9da-422f-aa3b-acd577064a32",
   "metadata": {},
   "outputs": [
    {
     "name": "stdin",
     "output_type": "stream",
     "text": [
      "Enter a number:  22.2\n"
     ]
    },
    {
     "name": "stdout",
     "output_type": "stream",
     "text": [
      "Invalid input. Please enter a valid number.\n"
     ]
    }
   ],
   "source": [
    "'''\n",
    "Handling Multiple Exceptions\n",
    "You can catch several different exceptions and handle them with the same block of code by placing them in a tuple\n",
    "'''\n",
    "try:\n",
    "    # Some code that could cause either a ValueError or a TypeError\n",
    "    value = int(input(\"Enter a number: \"))\n",
    "    result = 10 / value\n",
    "    print(result)\n",
    "except (ValueError, TypeError):\n",
    "    print(\"Invalid input. Please enter a valid number.\")\n",
    "except ZeroDivisionError:\n",
    "    print(\"You cannot divide by zero.\")"
   ]
  },
  {
   "cell_type": "code",
   "execution_count": 12,
   "id": "02e4b71f-6b25-4a55-a1fc-0728d29dabeb",
   "metadata": {},
   "outputs": [
    {
     "name": "stdout",
     "output_type": "stream",
     "text": [
      "Error: The file data.txt was not found.\n"
     ]
    }
   ],
   "source": [
    "'''\n",
    "Using else and finally\n",
    "else: This optional block runs only if the try block completes successfully (i.e., no exceptions were raised).\n",
    "\n",
    "finally: This optional block runs no matter what. It executes whether an exception occurred or not. It's perfect for cleanup actions, like closing a file or a network connection.\n",
    "'''\n",
    "\n",
    "file = None  # Initialize as None\n",
    "try:\n",
    "    file = open(\"data.txt\", \"r\")\n",
    "    content = file.read()\n",
    "except FileNotFoundError:\n",
    "    print(\"Error: The file data.txt was not found.\")\n",
    "else:\n",
    "    # This runs ONLY if the file was opened successfully\n",
    "    print(\"File read successfully!\")\n",
    "    print(content)\n",
    "finally:\n",
    "    # This runs ALWAYS, ensuring the file gets closed\n",
    "    if file:  # This check is now False if open() failed\n",
    "        file.close()\n",
    "        print(\"File has been closed.\")"
   ]
  },
  {
   "cell_type": "code",
   "execution_count": null,
   "id": "3ec2d2ed-2461-4737-a88e-73524c450798",
   "metadata": {},
   "outputs": [],
   "source": []
  }
 ],
 "metadata": {
  "kernelspec": {
   "display_name": "Python 3 (ipykernel)",
   "language": "python",
   "name": "python3"
  },
  "language_info": {
   "codemirror_mode": {
    "name": "ipython",
    "version": 3
   },
   "file_extension": ".py",
   "mimetype": "text/x-python",
   "name": "python",
   "nbconvert_exporter": "python",
   "pygments_lexer": "ipython3",
   "version": "3.13.3"
  }
 },
 "nbformat": 4,
 "nbformat_minor": 5
}
