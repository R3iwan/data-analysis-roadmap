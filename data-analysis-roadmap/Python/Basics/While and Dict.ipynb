{
 "cells": [
  {
   "cell_type": "code",
   "execution_count": 1,
   "id": "e4acc271-2edc-42df-a63f-d3b354c2d4ce",
   "metadata": {},
   "outputs": [
    {
     "name": "stdout",
     "output_type": "stream",
     "text": [
      "Счетчик: 0\n",
      "Счетчик: 1\n",
      "Счетчик: 2\n",
      "Счетчик: 3\n",
      "Счетчик: 4\n"
     ]
    },
    {
     "data": {
      "text/plain": [
       "'\\nbreak: Оператор для немедленного выхода из цикла, даже если условие все еще True.\\n\\ncontinue: Оператор для пропуска оставшейся части кода в текущей итерации и перехода к следующей проверке условия цикла.\\n'"
      ]
     },
     "execution_count": 1,
     "metadata": {},
     "output_type": "execute_result"
    }
   ],
   "source": [
    "# Theory\n",
    "\n",
    "'''\n",
    "Цикл while\n",
    "\n",
    "Определение: Цикл while (пока) выполняет блок кода до тех пор, пока его условие остается истинным (True). Он используется, когда количество итераций заранее неизвестно.\n",
    "'''\n",
    "\n",
    "counter = 0\n",
    "while counter < 5:\n",
    "    print(f\"Счетчик: {counter}\")\n",
    "    counter += 1\n",
    "\n",
    "'''\n",
    "break: Оператор для немедленного выхода из цикла, даже если условие все еще True.\n",
    "\n",
    "continue: Оператор для пропуска оставшейся части кода в текущей итерации и перехода к следующей проверке условия цикла.\n",
    "'''"
   ]
  },
  {
   "cell_type": "code",
   "execution_count": 3,
   "id": "7ad0b77e-fc7f-4d8b-927d-6257be85d318",
   "metadata": {},
   "outputs": [
    {
     "name": "stdout",
     "output_type": "stream",
     "text": [
      "some_gmail@gmail.com\n",
      "dict_keys(['name', 'age', 'city', 'email'])\n",
      "dict_values(['Rakhat', 23, 'Astana', 'some_gmail@gmail.com'])\n",
      "dict_items([('name', 'Rakhat'), ('age', 23), ('city', 'Astana'), ('email', 'some_gmail@gmail.com')])\n"
     ]
    }
   ],
   "source": [
    "# Dicts\n",
    "\n",
    "'''\n",
    "Словари (dict)\n",
    "\n",
    "Определение: Словарь — это неупорядоченная (в старых версиях Python) и изменяемая коллекция пар «ключ: значение». Ключи должны быть уникальными и неизменяемыми (чаще всего строки или числа).\n",
    "\n",
    "Создание: my_dict = {'name': 'Иван', 'age': 30, 'city': 'Москва'}\n",
    "\n",
    "Доступ к элементам: my_dict['age'] → 30. Если ключа нет, будет ошибка KeyError.\n",
    "\n",
    "Безопасный доступ: my_dict.get('country', 'Россия'). Если ключа 'country' нет, вернется значение по умолчанию 'Россия', и ошибки не будет.\n",
    "\n",
    "Добавление и изменение: my_dict['age'] = 31, my_dict['email'] = 'ivan@test.com'\n",
    "'''\n",
    "\n",
    "my_dict = {\n",
    "    'name': 'Rakhat',\n",
    "    'age': 23,\n",
    "    'city': 'Astana'\n",
    "}\n",
    "\n",
    "my_dict['email'] = 'some_gmail@gmail.com'\n",
    "\n",
    "print(my_dict['email'])\n",
    "\n",
    "'''\n",
    "Основные методы:\n",
    "\n",
    ".keys(): Возвращает все ключи.\n",
    "\n",
    ".values(): Возвращает все значения.\n",
    "\n",
    ".items(): Возвращает все пары (ключ, значение), что удобно для перебора в цикле: for key, value in my_dict.items():.\n",
    "'''\n",
    "\n",
    "print(my_dict.keys())\n",
    "print(my_dict.values())\n",
    "print(my_dict.items())"
   ]
  },
  {
   "cell_type": "code",
   "execution_count": 4,
   "id": "a783a705-30a1-4295-8677-635ea0db740f",
   "metadata": {},
   "outputs": [
    {
     "name": "stdout",
     "output_type": "stream",
     "text": [
      "Я загадал число от 1 до 100. Попробуй угадать!\n"
     ]
    },
    {
     "name": "stdin",
     "output_type": "stream",
     "text": [
      "Твоё предположение:  55\n"
     ]
    },
    {
     "name": "stdout",
     "output_type": "stream",
     "text": [
      "Слишком мало!\n"
     ]
    },
    {
     "name": "stdin",
     "output_type": "stream",
     "text": [
      "Твоё предположение:  75\n"
     ]
    },
    {
     "name": "stdout",
     "output_type": "stream",
     "text": [
      "Слишком много!\n"
     ]
    },
    {
     "name": "stdin",
     "output_type": "stream",
     "text": [
      "Твоё предположение:  60\n"
     ]
    },
    {
     "name": "stdout",
     "output_type": "stream",
     "text": [
      "Слишком мало!\n"
     ]
    },
    {
     "name": "stdin",
     "output_type": "stream",
     "text": [
      "Твоё предположение:  67\n"
     ]
    },
    {
     "name": "stdout",
     "output_type": "stream",
     "text": [
      "Слишком мало!\n"
     ]
    },
    {
     "name": "stdin",
     "output_type": "stream",
     "text": [
      "Твоё предположение:  71\n"
     ]
    },
    {
     "name": "stdout",
     "output_type": "stream",
     "text": [
      "Слишком мало!\n"
     ]
    },
    {
     "name": "stdin",
     "output_type": "stream",
     "text": [
      "Твоё предположение:  73\n"
     ]
    },
    {
     "name": "stdout",
     "output_type": "stream",
     "text": [
      "Слишком мало!\n"
     ]
    },
    {
     "name": "stdin",
     "output_type": "stream",
     "text": [
      "Твоё предположение:  74\n"
     ]
    },
    {
     "name": "stdout",
     "output_type": "stream",
     "text": [
      "В яблочко! Это было число 74. Поздравляю!\n",
      "--------------------\n",
      "Товар: Ноутбук\n",
      "Цена: 75000 KZT.\n",
      "Процессор: Intel Core i5\n"
     ]
    }
   ],
   "source": [
    "# Examples\n",
    "import random\n",
    "\n",
    "# Загадываем число от 1 до 100\n",
    "secret_number = random.randint(1, 100)\n",
    "print(\"Я загадал число от 1 до 100. Попробуй угадать!\")\n",
    "\n",
    "# Бесконечный цикл, из которого мы выйдем с помощью break\n",
    "while True:\n",
    "    try:\n",
    "        guess = int(input(\"Твоё предположение: \"))\n",
    "\n",
    "        if guess < secret_number:\n",
    "            print(\"Слишком мало!\")\n",
    "        elif guess > secret_number:\n",
    "            print(\"Слишком много!\")\n",
    "        else:\n",
    "            print(f\"В яблочко! Это было число {secret_number}. Поздравляю!\")\n",
    "            break # Выход из цикла при правильном ответе\n",
    "    except ValueError:\n",
    "        print(\"Пожалуйста, введи число.\")\n",
    "print(\"-\" * 20)\n",
    "\n",
    "# Словарь, описывающий товар на складе\n",
    "product = {\n",
    "    'name': 'Ноутбук',\n",
    "    'id': 'A-485',\n",
    "    'price': 75000,\n",
    "    'in_stock': True,\n",
    "    'specs': { # Вложенный словарь\n",
    "        'cpu': 'Intel Core i5',\n",
    "        'ram_gb': 16\n",
    "    }\n",
    "}\n",
    "\n",
    "# Доступ к данным\n",
    "print(f\"Товар: {product['name']}\")\n",
    "print(f\"Цена: {product.get('price')} KZT.\")\n",
    "print(f\"Процессор: {product['specs']['cpu']}\") # Доступ к данным во вложенном словаре"
   ]
  },
  {
   "cell_type": "code",
   "execution_count": null,
   "id": "6d3aa5c1-3a64-4051-831d-3ece343f897a",
   "metadata": {},
   "outputs": [],
   "source": [
    "# Exercise 1\n",
    "my_tasks = []\n",
    "\n",
    "while True:\n",
    "    command = input(\"Please write command:\\n1)add \\n2)show \\n3)exit \\n\\n\")\n",
    "    if command.lower() == 'add'.:\n",
    "        task = input(\"Please write a task you want to add:\\n\")\n",
    "        my_tasks.append(task)\n",
    "    elif command.lower() == 'show':\n",
    "        print(\"--- Your Tasks ---\")\n",
    "        if not in my_tasks:\n",
    "            print(\"You don't have any tasks\")\n",
    "        else:\n",
    "            for i, task in enumerate(my_tasks, 1):\n",
    "                print(f\"{i}. {task}\")\n",
    "    elif command.lower() == 'exit':\n",
    "        break\n",
    "    else:\n",
    "        print(\"Please write correct command! Available commands:add, show, exit!\")"
   ]
  },
  {
   "cell_type": "code",
   "execution_count": 8,
   "id": "17d41a42-2114-4f14-a843-0585742de7c0",
   "metadata": {},
   "outputs": [
    {
     "name": "stdout",
     "output_type": "stream",
     "text": [
      "dict_items([(1, 'a'), (2, 'b'), (3, 'c')])\n"
     ]
    }
   ],
   "source": [
    "# Exercise 2\n",
    "d = {\n",
    "    'a': 1,\n",
    "    'b': 2,\n",
    "    'c': 3\n",
    "}\n",
    "\n",
    "inv_d = {}\n",
    "\n",
    "for key, value in d.items():\n",
    "    inv_d[value] = key\n",
    "\n",
    "print(inv_d.items())"
   ]
  },
  {
   "cell_type": "code",
   "execution_count": null,
   "id": "fc2d77eb-d40a-4c69-99de-caea2ebba77b",
   "metadata": {},
   "outputs": [],
   "source": []
  }
 ],
 "metadata": {
  "kernelspec": {
   "display_name": "Python 3 (ipykernel)",
   "language": "python",
   "name": "python3"
  },
  "language_info": {
   "codemirror_mode": {
    "name": "ipython",
    "version": 3
   },
   "file_extension": ".py",
   "mimetype": "text/x-python",
   "name": "python",
   "nbconvert_exporter": "python",
   "pygments_lexer": "ipython3",
   "version": "3.13.3"
  }
 },
 "nbformat": 4,
 "nbformat_minor": 5
}
