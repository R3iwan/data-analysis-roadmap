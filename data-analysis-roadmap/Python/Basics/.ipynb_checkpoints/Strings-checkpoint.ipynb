{
 "cells": [
  {
   "cell_type": "code",
   "execution_count": 7,
   "id": "d5ef0af7-a7f6-4648-b6f8-cc072fc11c9e",
   "metadata": {},
   "outputs": [
    {
     "name": "stdout",
     "output_type": "stream",
     "text": [
      "Py\n",
      "thon\n",
      "Pytho\n",
      "PYTHON\n",
      "python\n",
      "hello!\n",
      "['My', 'name', 'is', 'Rakhat!']\n",
      "apple,banana,orange\n",
      "1\n",
      "hellolol!\n",
      "This is true!\n",
      "Today is Saturday or Sunday!\n",
      "True\n",
      "This file of report\n",
      "This is CSV file, we can analyze it Pandas\n",
      "john doe\n"
     ]
    }
   ],
   "source": [
    "# Theory\n",
    "'''\n",
    "Работа со строками (str)\n",
    "\n",
    "Срезы (Slicing): Позволяют получать часть строки. Синтаксис: string[start:stop:step].\n",
    "\n",
    "'Python'[0:2] → 'Py' (символы с 0 по 2, не включая 2)\n",
    "\n",
    "'Python'[2:] → 'thon' (с 2-го символа до конца)\n",
    "\n",
    "'Python'[:-1] → 'Pytho' (все, кроме последнего символа)\n",
    "'''\n",
    "python_word = \"Python\"\n",
    "print(python_word[0:2])\n",
    "print(python_word[2:])\n",
    "print(python_word[:-1])\n",
    "\n",
    "'''\n",
    "Основные методы строк:\n",
    "\n",
    ".lower() / .upper(): Преобразование строки к нижнему или верхнему регистру.\n",
    "\n",
    ".strip(): Удаление пробелов в начале и в конце строки.\n",
    "\n",
    ".split(delimiter): Разбиение строки на список по указанному разделителю. Если разделитель не указан, разбивает по пробелам.\n",
    "\n",
    "delimiter.join(list): Сборка строки из элементов списка с использованием разделителя.\n",
    "\n",
    ".find(substring): Поиск подстроки, возвращает индекс первого вхождения или -1, если не найдено.\n",
    "\n",
    ".replace(old, new): Замена всех вхождений подстроки old на new.\n",
    "'''\n",
    "\n",
    "# Uppers the word\n",
    "python_word = python_word.upper()\n",
    "print(python_word)\n",
    "\n",
    "# Lowers the word\n",
    "python_word = python_word.lower()\n",
    "print(python_word)\n",
    "\n",
    "remove_strip = \" hello! \"\n",
    "remove_strip = remove_strip.strip()\n",
    "print(remove_strip)\n",
    "\n",
    "split_word = \"My,name,is,Rakhat!\"\n",
    "split_word = split_word.split(\",\")\n",
    "print(split_word)\n",
    "\n",
    "my_list = [\"apple\", \"banana\", \"orange\"]\n",
    "delimeter = \",\"\n",
    "result = delimeter.join(my_list)\n",
    "print(result)\n",
    "\n",
    "finding_substring = \"hello!\"\n",
    "result = finding_substring.find(\"ell\")\n",
    "print(result)\n",
    "\n",
    "replace_strings = \"hello!\"\n",
    "result = replace_strings.replace(\"lo!\", \"lolol!\")\n",
    "print(result)\n",
    "\n",
    "'''\n",
    "Логические операторы\n",
    "Они используются для объединения нескольких условий.\n",
    "\n",
    "and (логическое И): Истинно (True), только если оба условия истинны.\n",
    "\n",
    "age > 18 and has_ticket == True\n",
    "\n",
    "or (логическое ИЛИ): Истинно (True), если хотя бы одно из условий истинно.\n",
    "\n",
    "day == \"Saturday\" or day == \"Sunday\"\n",
    "\n",
    "not (логическое НЕ): Инвертирует логическое значение.\n",
    "\n",
    "not is_raining\n",
    "'''\n",
    "\n",
    "age = 22\n",
    "has_ticket = True\n",
    "day = \"Sunday\"\n",
    "is_raining = False\n",
    "\n",
    "if age > 18 and has_ticket == True:\n",
    "    print(\"This is true!\")\n",
    "if day == \"Saturday\" or day == \"Sunday\":\n",
    "    print(\"Today is Saturday or Sunday!\")\n",
    "if not is_raining:\n",
    "    print(\"True\")\n",
    "\n",
    "'''\n",
    "Проверка начала и конца строки: .startswith() и .endswith()\n",
    "Эти методы незаменимы при работе с файлами или структурированными данными. Они также возвращают True или False.\n",
    "'''\n",
    "filename = \"report_2025.csv\"\n",
    "if filename.startswith(\"report\"):\n",
    "    print(\"This file of report\")\n",
    "if filename.endswith(\".csv\"):\n",
    "    print(\"This is CSV file, we can analyze it Pandas\")\n",
    "\n",
    "'''\n",
    "Цепочки методов (Method Chaining)\n",
    "Так как методы строк возвращают новую строку, вы можете вызывать их один за другим в одной строке. Это делает код более компактным.\n",
    "'''\n",
    "# Вместо трех строк:\n",
    "# raw_data = \"  John Doe  \"\n",
    "# stripped_data = raw_data.strip()\n",
    "# lower_data = stripped_data.lower()\n",
    "\n",
    "raw_data = \" John Doe \"\n",
    "clean_data = raw_data.strip().lower()\n",
    "print(clean_data)"
   ]
  },
  {
   "cell_type": "code",
   "execution_count": 8,
   "id": "32e05ed4-4ecf-44f7-a676-ba62fec0e6ec",
   "metadata": {},
   "outputs": [
    {
     "name": "stdin",
     "output_type": "stream",
     "text": [
      "Введите ваш пароль для проверки:  Rahatsuper2002\n"
     ]
    },
    {
     "name": "stdout",
     "output_type": "stream",
     "text": [
      "\n",
      "--- Анализ вашего пароля ---\n",
      "- Отличная длина (12+ символов).\n",
      "- Пароль содержит цифры.\n",
      "- Пароль содержит заглавные буквы.\n",
      "\n",
      "Общая оценка надежности: 4 из 4.\n",
      "Вердикт: Надежный пароль.\n"
     ]
    }
   ],
   "source": [
    "# Запрашиваем пароль у пользователя\n",
    "password = input(\"Введите ваш пароль для проверки: \")\n",
    "\n",
    "# Начальная оценка надежности\n",
    "strength = 0\n",
    "feedback = []\n",
    "\n",
    "# 1. Проверка длины с помощью len() и if-elif-else\n",
    "if len(password) < 8:\n",
    "    feedback.append(\"Пароль слишком короткий (менее 8 символов).\")\n",
    "elif len(password) >= 12:\n",
    "    strength += 2\n",
    "    feedback.append(\"Отличная длина (12+ символов).\")\n",
    "else:\n",
    "    strength += 1\n",
    "    feedback.append(\"Хорошая длина (8-11 символов).\")\n",
    "\n",
    "# 2. Проверка наличия цифр\n",
    "# any() - это функция, которая вернет True, если хотя бы один элемент в последовательности True\n",
    "if any(char.isdigit() for char in password):\n",
    "    strength += 1\n",
    "    feedback.append(\"Пароль содержит цифры.\")\n",
    "else:\n",
    "    feedback.append(\"Рекомендуется добавить в пароль цифры.\")\n",
    "\n",
    "# 3. Проверка наличия заглавных букв\n",
    "if any(char.isupper() for char in password):\n",
    "    strength += 1\n",
    "    feedback.append(\"Пароль содержит заглавные буквы.\")\n",
    "else:\n",
    "    feedback.append(\"Рекомендуется добавить заглавные буквы.\")\n",
    "\n",
    "# Итоговый вердикт\n",
    "print(\"\\n--- Анализ вашего пароля ---\")\n",
    "for msg in feedback:\n",
    "    print(f\"- {msg}\")\n",
    "\n",
    "print(f\"\\nОбщая оценка надежности: {strength} из 4.\")\n",
    "if strength < 2:\n",
    "    print(\"Вердикт: Слабый пароль.\")\n",
    "elif strength < 4:\n",
    "    print(\"Вердикт: Средний пароль.\")\n",
    "else:\n",
    "    print(\"Вердикт: Надежный пароль.\")"
   ]
  },
  {
   "cell_type": "code",
   "execution_count": 10,
   "id": "970a350a-0b53-4646-9592-d11fca5f62bf",
   "metadata": {},
   "outputs": [
    {
     "name": "stdin",
     "output_type": "stream",
     "text": [
      "Please write an hour of your time! Between 0 and 23\n",
      " 23\n"
     ]
    },
    {
     "name": "stdout",
     "output_type": "stream",
     "text": [
      "Good night\n"
     ]
    }
   ],
   "source": [
    "# Exercise 1\n",
    "\n",
    "try:\n",
    "    # Пытаемся преобразовать ввод в число\n",
    "    hour = int(input(\"Please write an hour of your time! Between 0 and 23\\n\"))\n",
    "\n",
    "    # Проверяем, что число находится в нужном диапазоне\n",
    "    if 0 <= hour <= 23:\n",
    "        if 6 <= hour <= 11:\n",
    "            print(\"Good morning!\")\n",
    "        elif 12 <= hour <= 17:\n",
    "            print(\"Good day!\")\n",
    "        elif 18 <= hour <= 22:\n",
    "            print(\"Good evening\")\n",
    "        else:\n",
    "            print(\"Good night\")\n",
    "    else:\n",
    "        # Сообщаем пользователю, если он ввел число вне диапазона\n",
    "        print(\"Please enter a number between 0 and 23.\")\n",
    "\n",
    "except ValueError:\n",
    "    # Этот блок сработает, если пользователь ввел не число\n",
    "    print(\"Please write only a number!\")"
   ]
  },
  {
   "cell_type": "code",
   "execution_count": 14,
   "id": "d3c81110-8660-4504-85b5-31fcfb56cc80",
   "metadata": {},
   "outputs": [
    {
     "name": "stdin",
     "output_type": "stream",
     "text": [
      "Please write your mail address! rahat@gmail.com\n"
     ]
    },
    {
     "name": "stdout",
     "output_type": "stream",
     "text": [
      "Your email address 'rahat@gmail.com' looks valid.\n"
     ]
    }
   ],
   "source": [
    "# Exercise 2\n",
    "email = input(\"Please write your mail address!\")\n",
    "\n",
    "if email.count(\"@\") == 1:\n",
    "    at_position = email.find(\"@\")\n",
    "    dot_position = email.find(\".\")\n",
    "\n",
    "    if dot_position > at_position:\n",
    "        print(f\"Your email address '{email}' looks valid.\")\n",
    "    else:\n",
    "        print(\"Invalid email: a dot '.' must appear after the '@' symbol.\")\n",
    "else:\n",
    "    print(\"Invalid email: it must contain exactly one '@' symbol.\")"
   ]
  },
  {
   "cell_type": "code",
   "execution_count": null,
   "id": "aab77a47-02f6-4c35-aebc-168605ff29e5",
   "metadata": {},
   "outputs": [],
   "source": []
  }
 ],
 "metadata": {
  "kernelspec": {
   "display_name": "Python 3 (ipykernel)",
   "language": "python",
   "name": "python3"
  },
  "language_info": {
   "codemirror_mode": {
    "name": "ipython",
    "version": 3
   },
   "file_extension": ".py",
   "mimetype": "text/x-python",
   "name": "python",
   "nbconvert_exporter": "python",
   "pygments_lexer": "ipython3",
   "version": "3.13.3"
  }
 },
 "nbformat": 4,
 "nbformat_minor": 5
}
