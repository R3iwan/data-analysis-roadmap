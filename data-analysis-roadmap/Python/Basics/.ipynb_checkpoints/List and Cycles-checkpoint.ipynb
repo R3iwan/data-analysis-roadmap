{
 "cells": [
  {
   "cell_type": "code",
   "execution_count": 1,
   "id": "4621b95a-91d9-4800-8186-6c9d4d708ea7",
   "metadata": {},
   "outputs": [
    {
     "name": "stdout",
     "output_type": "stream",
     "text": [
      "1\n",
      "hello\n",
      "[2, 3, 4]\n"
     ]
    }
   ],
   "source": [
    "# Theory\n",
    "'''\n",
    "Списки (list)\n",
    "\n",
    "Определение: Список — это упорядоченная, изменяемая коллекция элементов. Элементы могут быть разных типов. Списки создаются с помощью квадратных скобок [].\n",
    "\n",
    "empty_list = []\n",
    "\n",
    "numbers = [1, 2, 3, 4, 5]\n",
    "\n",
    "mixed_list = [10, \"hello\", True, 3.14]\n",
    "\n",
    "Индексация и срезы: Работают точно так же, как и со строками. Индексация начинается с 0.\n",
    "\n",
    "numbers[0] → 1\n",
    "\n",
    "mixed_list[1] → \"hello\"\n",
    "\n",
    "numbers[1:4] → [2, 3, 4]\n",
    "'''\n",
    "\n",
    "empty_list = []\n",
    "numbers = [1,2,3,4,5,6]\n",
    "mixed_list = [10, \"hello\", True, 3.14]\n",
    "\n",
    "print(numbers[0])\n",
    "print(mixed_list[1])\n",
    "print(numbers[1:4])"
   ]
  },
  {
   "cell_type": "code",
   "execution_count": 4,
   "id": "7cc063c1-952d-4a4f-b4d6-bc04baf7c459",
   "metadata": {},
   "outputs": [
    {
     "name": "stdout",
     "output_type": "stream",
     "text": [
      "[1]\n",
      "[0, 1, 2, 'hello']\n",
      "[0, 1, 'hello']\n",
      "[0, 1]\n",
      "[0, 1]\n"
     ]
    },
    {
     "data": {
      "text/plain": [
       "2"
      ]
     },
     "execution_count": 4,
     "metadata": {},
     "output_type": "execute_result"
    }
   ],
   "source": [
    "# Methods of Lists\n",
    "'''\n",
    ".append(item): Добавляет элемент в конец списка.\n",
    "\n",
    ".insert(index, item): Вставляет элемент на позицию index.\n",
    "\n",
    ".pop(index): Удаляет и возвращает элемент по индексу. Если индекс не указан, удаляет последний элемент.\n",
    "\n",
    ".remove(value): Удаляет первое вхождение элемента с заданным значением.\n",
    "\n",
    ".sort(): Сортирует список на месте (от меньшего к большему).\n",
    "\n",
    "len(list): Функция, возвращающая количество элементов в списке (его длину).\n",
    "'''\n",
    "\n",
    "my_list = []\n",
    "my_list.append(1)\n",
    "print(my_list)\n",
    "\n",
    "my_list.insert(0, 0)\n",
    "my_list.insert(2, 2)\n",
    "my_list.insert(3, \"hello\")\n",
    "print(my_list)\n",
    "\n",
    "my_list.pop(2)\n",
    "print(my_list)\n",
    "\n",
    "my_list.remove(\"hello\")\n",
    "print(my_list)\n",
    "\n",
    "sorted_list = sorted(my_list)\n",
    "print(sorted_list)\n",
    "\n",
    "len(my_list)"
   ]
  },
  {
   "cell_type": "code",
   "execution_count": 5,
   "id": "57e7ad99-72ee-477e-8735-866afd834f87",
   "metadata": {},
   "outputs": [
    {
     "data": {
      "text/plain": [
       "'\\nЦикл for и функция range()\\n\\nЦикл for: Это главный способ поочередно обработать каждый элемент в последовательности (например, в списке или строке).\\n\\nPython\\n\\nfor number in numbers:\\n    print(number * 2)\\n\\nФункция range(): Генерирует последовательность чисел, что очень удобно для циклов, которые должны повториться определенное количество раз.\\n\\nrange(5) → 0, 1, 2, 3, 4\\n\\nrange(2, 6) → 2, 3, 4, 5\\n\\nrange(0, 10, 2) → 0, 2, 4, 6, 8\\n'"
      ]
     },
     "execution_count": 5,
     "metadata": {},
     "output_type": "execute_result"
    }
   ],
   "source": [
    "# Cycles\n",
    "'''\n",
    "Цикл for и функция range()\n",
    "\n",
    "Цикл for: Это главный способ поочередно обработать каждый элемент в последовательности (например, в списке или строке).\n",
    "\n",
    "Python\n",
    "\n",
    "for number in numbers:\n",
    "    print(number * 2)\n",
    "\n",
    "Функция range(): Генерирует последовательность чисел, что очень удобно для циклов, которые должны повториться определенное количество раз.\n",
    "\n",
    "range(5) → 0, 1, 2, 3, 4\n",
    "\n",
    "range(2, 6) → 2, 3, 4, 5\n",
    "\n",
    "range(0, 10, 2) → 0, 2, 4, 6, 8\n",
    "'''"
   ]
  },
  {
   "cell_type": "code",
   "execution_count": 26,
   "id": "99d35bd0-cb56-4048-a80f-100b43524570",
   "metadata": {},
   "outputs": [
    {
     "name": "stdout",
     "output_type": "stream",
     "text": [
      "[3, 7, 1, 6, 4, 9, 8, 8, 7, 6]\n",
      "9\n",
      "1\n"
     ]
    }
   ],
   "source": [
    "# Execise 1\n",
    "import random\n",
    "\n",
    "rand_list = [random.randint(0,10) for _ in range(10)]\n",
    "print(rand_list)\n",
    "max_num = rand_list[0]\n",
    "min_num = rand_list[0]\n",
    "\n",
    "for num in range(len(rand_list)):\n",
    "    if max_num <= rand_list[num]:\n",
    "        max_num = rand_list[num]\n",
    "print(max_num)\n",
    "\n",
    "for num in range(len(rand_list)):\n",
    "    if min_num >= rand_list[num]:\n",
    "        min_num = rand_list[num]\n",
    "print(min_num)"
   ]
  },
  {
   "cell_type": "code",
   "execution_count": 30,
   "id": "850447f8-5aa0-4023-97fe-c93316eb0fb2",
   "metadata": {},
   "outputs": [
    {
     "name": "stdout",
     "output_type": "stream",
     "text": [
      "[1, 2, 3, 4, 5]\n"
     ]
    }
   ],
   "source": [
    "# Exercise 2\n",
    "my_list = [1, 2, 3, 2, 4, 3, 5]\n",
    "unique_list = []\n",
    "\n",
    "for num in my_list:\n",
    "    if num not in unique_list:\n",
    "        unique_list.append(num)\n",
    "\n",
    "print(unique_list)"
   ]
  },
  {
   "cell_type": "code",
   "execution_count": 34,
   "id": "f2832d6d-862e-4663-b390-79be1096dfee",
   "metadata": {},
   "outputs": [
    {
     "name": "stdin",
     "output_type": "stream",
     "text": [
      "Please write a number! 5\n"
     ]
    },
    {
     "name": "stdout",
     "output_type": "stream",
     "text": [
      "[1, 4, 9, 16, 25]\n"
     ]
    }
   ],
   "source": [
    "# Exercise 3\n",
    "num = int(input(\"Please write a number!\"))\n",
    "\n",
    "squared_list = [number * number for number in range(1, num+1)]\n",
    "print(squared_list)"
   ]
  },
  {
   "cell_type": "code",
   "execution_count": null,
   "id": "9e5b2078-78e8-4583-a997-5aeb152388c0",
   "metadata": {},
   "outputs": [],
   "source": []
  }
 ],
 "metadata": {
  "kernelspec": {
   "display_name": "Python 3 (ipykernel)",
   "language": "python",
   "name": "python3"
  },
  "language_info": {
   "codemirror_mode": {
    "name": "ipython",
    "version": 3
   },
   "file_extension": ".py",
   "mimetype": "text/x-python",
   "name": "python",
   "nbconvert_exporter": "python",
   "pygments_lexer": "ipython3",
   "version": "3.13.3"
  }
 },
 "nbformat": 4,
 "nbformat_minor": 5
}
