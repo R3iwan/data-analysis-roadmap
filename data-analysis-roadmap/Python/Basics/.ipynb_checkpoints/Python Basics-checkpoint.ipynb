{
 "cells": [
  {
   "cell_type": "code",
   "execution_count": 1,
   "id": "ce0d62c2-acc9-4d02-ba89-448e2e130dbf",
   "metadata": {},
   "outputs": [
    {
     "name": "stdin",
     "output_type": "stream",
     "text": [
      "Как вас зовут?  Rakhat\n",
      "В каком году вы родились?  2002\n"
     ]
    },
    {
     "name": "stdout",
     "output_type": "stream",
     "text": [
      "Здравствуйте, Rakhat!\n",
      "В этом году вам исполняется примерно 23 лет.\n"
     ]
    }
   ],
   "source": [
    "# Импортируем модуль datetime для получения текущего года\n",
    "import datetime\n",
    "\n",
    "# 1. Получаем данные от пользователя с помощью input()\n",
    "name = input(\"Как вас зовут? \")\n",
    "birth_year_str = input(\"В каком году вы родились? \")\n",
    "\n",
    "# 2. Преобразуем строку с годом рождения в число (int)\n",
    "# Оборачиваем в try-except для обработки возможной ошибки ввода\n",
    "try:\n",
    "    birth_year = int(birth_year_str)\n",
    "\n",
    "    # 3. Выполняем арифметические операции\n",
    "    current_year = datetime.datetime.now().year\n",
    "    age = current_year - birth_year\n",
    "\n",
    "    # 4. Выводим результат на экран с помощью print() и f-строк\n",
    "    print(f\"Здравствуйте, {name}!\")\n",
    "    print(f\"В этом году вам исполняется примерно {age} лет.\")\n",
    "\n",
    "except ValueError:\n",
    "    # Это блок выполнится, если пользователь ввел не число\n",
    "    print(\"Ошибка: Год рождения должен быть числом. Пожалуйста, перезапустите программу.\")"
   ]
  },
  {
   "cell_type": "code",
   "execution_count": 1,
   "id": "ef4935a7-28f7-471d-9e9f-4aeb939670b2",
   "metadata": {},
   "outputs": [
    {
     "name": "stdin",
     "output_type": "stream",
     "text": [
      "Please write your weight in kg. 87\n",
      "Please write your height in cm. 188\n"
     ]
    },
    {
     "name": "stdout",
     "output_type": "stream",
     "text": [
      "BMI is 24.62\n"
     ]
    }
   ],
   "source": [
    "#Exercise 1\n",
    "weight_str = input(\"Please write your weight in kg.\")\n",
    "height_cm_str = input(\"Please write your height in cm.\")\n",
    "\n",
    "try:\n",
    "    weight_str = float(weight_str)\n",
    "    height_cm_str = float(height_cm_str)\n",
    "\n",
    "    height_m = height_cm_str / 100\n",
    "\n",
    "    bmi = weight_str / (height_m ** 2)\n",
    "    \n",
    "    print(f\"BMI is {bmi:.2f}\")\n",
    "except ValueError:\n",
    "    print(\"Please write only numbers!\")"
   ]
  },
  {
   "cell_type": "code",
   "execution_count": null,
   "id": "6dfa4359-f809-4ea1-aac7-fd4388f70921",
   "metadata": {},
   "outputs": [],
   "source": [
    "#Questions\n",
    "#1)Какой тип данных будет у результата 10 / 2 -> float\n",
    "#2)Какой тип данных будет у результата 10 // 3? -> int\n",
    "#3)Что выведет print('5' + '5')? -> 55\n",
    "#4)Какой тип данных у переменной is_active = True? -> bool"
   ]
  }
 ],
 "metadata": {
  "kernelspec": {
   "display_name": "Python 3 (ipykernel)",
   "language": "python",
   "name": "python3"
  },
  "language_info": {
   "codemirror_mode": {
    "name": "ipython",
    "version": 3
   },
   "file_extension": ".py",
   "mimetype": "text/x-python",
   "name": "python",
   "nbconvert_exporter": "python",
   "pygments_lexer": "ipython3",
   "version": "3.13.3"
  }
 },
 "nbformat": 4,
 "nbformat_minor": 5
}
